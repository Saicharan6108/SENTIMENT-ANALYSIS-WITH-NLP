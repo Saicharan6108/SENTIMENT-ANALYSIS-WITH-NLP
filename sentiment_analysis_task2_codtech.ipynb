{
 "cells": [
  {
   "cell_type": "markdown",
   "id": "43d0e9d4",
   "metadata": {},
   "source": [
    "# Sentiment Analysis with NLP\n",
    "This notebook performs sentiment analysis on a dataset of movie reviews using TF-IDF vectorization and Logistic Regression."
   ]
  },
  {
   "cell_type": "code",
   "execution_count": 29,
   "id": "d3b35a33-822c-4551-9450-7107c87ab4ee",
   "metadata": {},
   "outputs": [
    {
     "name": "stdout",
     "output_type": "stream",
     "text": [
      "Accuracy: 0.94\n",
      "Classification Report:\n",
      "              precision    recall  f1-score   support\n",
      "\n",
      "           0       0.89      1.00      0.94        25\n",
      "           1       1.00      0.88      0.94        25\n",
      "\n",
      "    accuracy                           0.94        50\n",
      "   macro avg       0.95      0.94      0.94        50\n",
      "weighted avg       0.95      0.94      0.94        50\n",
      "\n"
     ]
    }
   ],
   "source": [
    "import pandas as pd\n",
    "from sklearn.feature_extraction.text import TfidfVectorizer\n",
    "from sklearn.linear_model import LogisticRegression\n",
    "from sklearn.model_selection import train_test_split\n",
    "from sklearn.metrics import classification_report, accuracy_score\n",
    "import random\n",
    "\n",
    "positive_reviews = [\n",
    "    \"I love this product!\", \"Excellent quality and fast delivery.\",\n",
    "    \"Absolutely wonderful experience.\", \"Exceeded my expectations!\",\n",
    "    \"Great value for the price.\", \"Highly recommended!\",\n",
    "    \"Superb service and support.\", \"Very satisfied with my purchase.\",\n",
    "    \"Top-notch item.\", \"Five stars, would buy again!\"\n",
    "]\n",
    "\n",
    "negative_reviews = [\n",
    "    \"Terrible experience.\", \"Worst purchase I've ever made.\",\n",
    "    \"Not worth the money at all.\", \"Very disappointed.\",\n",
    "    \"The quality is awful.\", \"Bad customer service.\",\n",
    "    \"Product broke after one use.\", \"Horrible, don’t buy.\",\n",
    "    \"Waste of money.\", \"I regret buying this.\"\n",
    "]\n",
    "\n",
    "# Create 100 random positive and 100 random negative reviews\n",
    "reviews = [random.choice(positive_reviews) for _ in range(100)] + \\\n",
    "          [random.choice(negative_reviews) for _ in range(100)]\n",
    "sentiments = [1] * 100 + [0] * 100\n",
    "\n",
    "# Shuffle the dataset to mix positives and negatives\n",
    "combined = list(zip(reviews, sentiments))\n",
    "random.shuffle(combined)\n",
    "reviews, sentiments = zip(*combined)\n",
    "\n",
    "# DataFrame\n",
    "import pandas as pd\n",
    "df = pd.DataFrame({\"review\": reviews, \"sentiment\": sentiments})\n",
    "\n",
    "\n",
    "\n",
    "\n",
    "# Vectorization\n",
    "vectorizer = TfidfVectorizer(stop_words='english')\n",
    "X = vectorizer.fit_transform(df['review'])\n",
    "y = df['sentiment']\n",
    "\n",
    "# Train-test split\n",
    "X_train, X_test, y_train, y_test = train_test_split(X, y, test_size=0.25, random_state=42, stratify=y)\n",
    "\n",
    "\n",
    "# Model training\n",
    "model = LogisticRegression()\n",
    "model.fit(X_train, y_train)\n",
    "\n",
    "# Prediction and evaluation\n",
    "y_pred = model.predict(X_test)\n",
    "print(\"Accuracy:\", accuracy_score(y_test, y_pred))\n",
    "print(\"Classification Report:\")\n",
    "print(classification_report(y_test, y_pred))\n"
   ]
  },
  {
   "cell_type": "code",
   "execution_count": null,
   "id": "c6b9edf9-cd33-4f52-8cd2-9f42af9bd882",
   "metadata": {},
   "outputs": [],
   "source": []
  }
 ],
 "metadata": {
  "kernelspec": {
   "display_name": "Python 3 (ipykernel)",
   "language": "python",
   "name": "python3"
  },
  "language_info": {
   "codemirror_mode": {
    "name": "ipython",
    "version": 3
   },
   "file_extension": ".py",
   "mimetype": "text/x-python",
   "name": "python",
   "nbconvert_exporter": "python",
   "pygments_lexer": "ipython3",
   "version": "3.12.10"
  }
 },
 "nbformat": 4,
 "nbformat_minor": 5
}
